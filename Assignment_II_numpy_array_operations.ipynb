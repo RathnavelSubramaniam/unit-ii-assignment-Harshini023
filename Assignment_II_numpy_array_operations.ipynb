{
  "cells": [
    {
      "cell_type": "markdown",
      "metadata": {
        "id": "x29XguhmGR9W"
      },
      "source": [
        "> ### **Assignment 2 - Numpy Array Operations** \n",
        ">\n",
        "\n",
        "\n",
        "Write a short introduction about Numpy and list the chosen functions. \n",
        "\n",
        "function1 = np.append \n",
        "\n",
        "function2 = np.average\n",
        "\n",
        "function3 = np.arange\n",
        "\n",
        "function4 = np.squeeze\n",
        "\n",
        "function5 = np.vstack\n",
        "\n",
        "\n"
      ]
    },
    {
      "cell_type": "code",
      "execution_count": 44,
      "metadata": {
        "id": "GYSxXBl6GR9c"
      },
      "outputs": [],
      "source": [
        "import numpy as np"
      ]
    },
    {
      "cell_type": "markdown",
      "metadata": {
        "id": "034D7-ScGR9e"
      },
      "source": [
        "## Function 1 - np.append\n",
        "np.append function add elements to the end of an array provided that the dimensions of the elements should be same."
      ]
    },
    {
      "cell_type": "code",
      "execution_count": 45,
      "metadata": {
        "colab": {
          "base_uri": "https://localhost:8080/"
        },
        "id": "6nQ1kfwAGR9e",
        "outputId": "56e9aed0-46b7-4488-873f-1114c295b292"
      },
      "outputs": [
        {
          "data": {
            "text/plain": [
              "array([ 1,  2,  1, 25, 26, 24, 23, 15])"
            ]
          },
          "execution_count": 45,
          "metadata": {},
          "output_type": "execute_result"
        }
      ],
      "source": [
        "# Example 1 - working (change this)\n",
        "arr1 = [1, 2, 1, 25, 26]\n",
        "np.append(arr1, [24, 23, 15])\n"
      ]
    },
    {
      "cell_type": "markdown",
      "metadata": {
        "id": "A-NpwrlcGR9f"
      },
      "source": [
        "We can put lists as an element inside the array, then append it with the expected lists or any element regardless of their size.\n",
        "\n"
      ]
    },
    {
      "cell_type": "code",
      "execution_count": 46,
      "metadata": {
        "id": "exvS7CpeGR9f"
      },
      "outputs": [
        {
          "data": {
            "text/plain": [
              "array([ 2,  4,  5,  6,  7,  8, 10, 12, 13, 14])"
            ]
          },
          "execution_count": 46,
          "metadata": {},
          "output_type": "execute_result"
        }
      ],
      "source": [
        "# Example 2 - working\n",
        "arr2 = [[2, 4, 5], [6, 7, 8]]\n",
        "np.append(arr2, [10, 12])\n",
        "np.append(arr2, [10, 12, 13, 14])"
      ]
    },
    {
      "cell_type": "markdown",
      "metadata": {
        "id": "IPHUMw0KGR9f"
      },
      "source": [
        "When axis is specified, arrays must have the same shape."
      ]
    },
    {
      "cell_type": "code",
      "execution_count": 47,
      "metadata": {
        "colab": {
          "base_uri": "https://localhost:8080/",
          "height": 391
        },
        "id": "HH6f3hRzGR9g",
        "outputId": "3ab7627f-0ba3-4bd1-9b23-e49978d2e912"
      },
      "outputs": [
        {
          "ename": "ValueError",
          "evalue": "all the input arrays must have same number of dimensions, but the array at index 0 has 2 dimension(s) and the array at index 1 has 1 dimension(s)",
          "output_type": "error",
          "traceback": [
            "\u001b[1;31m---------------------------------------------------------------------------\u001b[0m",
            "\u001b[1;31mValueError\u001b[0m                                Traceback (most recent call last)",
            "\u001b[1;32mc:\\Users\\ELCOT\\Documents\\2nd sem\\python\\unit 2\\Assignment_II_numpy_array_operations.ipynb Cell 8'\u001b[0m in \u001b[0;36m<module>\u001b[1;34m\u001b[0m\n\u001b[0;32m      <a href='vscode-notebook-cell:/c%3A/Users/ELCOT/Documents/2nd%20sem/python/unit%202/Assignment_II_numpy_array_operations.ipynb#ch0000007?line=0'>1</a>\u001b[0m \u001b[39m# Example 3 - breaking (to illustrate when it breaks)\u001b[39;00m\n\u001b[0;32m      <a href='vscode-notebook-cell:/c%3A/Users/ELCOT/Documents/2nd%20sem/python/unit%202/Assignment_II_numpy_array_operations.ipynb#ch0000007?line=1'>2</a>\u001b[0m arr3 \u001b[39m=\u001b[39m [[\u001b[39m2\u001b[39m, \u001b[39m4\u001b[39m, \u001b[39m5\u001b[39m], [\u001b[39m6\u001b[39m, \u001b[39m7\u001b[39m, \u001b[39m8\u001b[39m]]\n\u001b[1;32m----> <a href='vscode-notebook-cell:/c%3A/Users/ELCOT/Documents/2nd%20sem/python/unit%202/Assignment_II_numpy_array_operations.ipynb#ch0000007?line=2'>3</a>\u001b[0m np\u001b[39m.\u001b[39;49mappend(arr3, [\u001b[39m14\u001b[39;49m, \u001b[39m15\u001b[39;49m, \u001b[39m16\u001b[39;49m], axis \u001b[39m=\u001b[39;49m \u001b[39m0\u001b[39;49m)\n",
            "File \u001b[1;32m<__array_function__ internals>:180\u001b[0m, in \u001b[0;36mappend\u001b[1;34m(*args, **kwargs)\u001b[0m\n",
            "File \u001b[1;32m~\\AppData\\Local\\Programs\\Python\\Python310\\lib\\site-packages\\numpy\\lib\\function_base.py:5392\u001b[0m, in \u001b[0;36mappend\u001b[1;34m(arr, values, axis)\u001b[0m\n\u001b[0;32m   <a href='file:///c%3A/Users/ELCOT/AppData/Local/Programs/Python/Python310/lib/site-packages/numpy/lib/function_base.py?line=5389'>5390</a>\u001b[0m     values \u001b[39m=\u001b[39m ravel(values)\n\u001b[0;32m   <a href='file:///c%3A/Users/ELCOT/AppData/Local/Programs/Python/Python310/lib/site-packages/numpy/lib/function_base.py?line=5390'>5391</a>\u001b[0m     axis \u001b[39m=\u001b[39m arr\u001b[39m.\u001b[39mndim\u001b[39m-\u001b[39m\u001b[39m1\u001b[39m\n\u001b[1;32m-> <a href='file:///c%3A/Users/ELCOT/AppData/Local/Programs/Python/Python310/lib/site-packages/numpy/lib/function_base.py?line=5391'>5392</a>\u001b[0m \u001b[39mreturn\u001b[39;00m concatenate((arr, values), axis\u001b[39m=\u001b[39;49maxis)\n",
            "File \u001b[1;32m<__array_function__ internals>:180\u001b[0m, in \u001b[0;36mconcatenate\u001b[1;34m(*args, **kwargs)\u001b[0m\n",
            "\u001b[1;31mValueError\u001b[0m: all the input arrays must have same number of dimensions, but the array at index 0 has 2 dimension(s) and the array at index 1 has 1 dimension(s)"
          ]
        }
      ],
      "source": [
        "# Example 3 - breaking (to illustrate when it breaks)\n",
        "arr3 = [[2, 4, 5], [6, 7, 8]]\n",
        "np.append(arr3, [14, 15, 16], axis = 0)"
      ]
    },
    {
      "cell_type": "markdown",
      "metadata": {
        "id": "SqYu4BnzGR9g"
      },
      "source": [
        "ValueError: all the input arrays must have same number of dimensions, but the array at index 0 has 2 dimension(s) and the array at index 1 has 1 dimension(s)"
      ]
    },
    {
      "cell_type": "markdown",
      "metadata": {
        "id": "MHiRxmcWGR9g"
      },
      "source": [
        "Some closing comments about when to use this function."
      ]
    },
    {
      "cell_type": "code",
      "execution_count": null,
      "metadata": {
        "colab": {
          "base_uri": "https://localhost:8080/"
        },
        "id": "sU-Nzxl1GR9g",
        "outputId": "1c3ef55e-f3ff-4b4b-a147-f88630f0f538"
      },
      "outputs": [
        {
          "data": {
            "text/plain": [
              "array([[ 2,  4,  5],\n",
              "       [ 6,  7,  8],\n",
              "       [14, 15, 16],\n",
              "       [12, 15, 16]])"
            ]
          },
          "execution_count": 6,
          "metadata": {},
          "output_type": "execute_result"
        }
      ],
      "source": [
        "# Fix\n",
        "arr3 = [[2, 4, 5], [6, 7, 8]]\n",
        "np.append(arr3, [[14, 15, 16], [12, 15, 16]], axis = 0)"
      ]
    },
    {
      "cell_type": "markdown",
      "metadata": {
        "id": "b_J9H7dLSHL_"
      },
      "source": [
        "In arr3, index 0 has 2 dimensions, while the element to be appended has 1 dimension, thus breaks down. To fix this, the element to be appended should have 2 dimensions as well."
      ]
    },
    {
      "cell_type": "markdown",
      "metadata": {
        "id": "UHBZ3gjCGR9h"
      },
      "source": [
        "## Function 2 - np.average\n",
        "\n",
        "Add some explanations"
      ]
    },
    {
      "cell_type": "code",
      "execution_count": null,
      "metadata": {
        "id": "UQlGO4oQGR9h"
      },
      "outputs": [
        {
          "data": {
            "text/plain": [
              "5.5"
            ]
          },
          "execution_count": 18,
          "metadata": {},
          "output_type": "execute_result"
        }
      ],
      "source": [
        "# Example 1 - working\n",
        "arr=[[3,4,5],[6,7,8]]\n",
        "np.average(arr)"
      ]
    },
    {
      "cell_type": "markdown",
      "metadata": {
        "id": "Ucbc8pbZGR9h"
      },
      "source": [
        "Explanation about example"
      ]
    },
    {
      "cell_type": "code",
      "execution_count": null,
      "metadata": {
        "id": "bTedO6EWGR9h"
      },
      "outputs": [
        {
          "data": {
            "text/plain": [
              "7.083333333333333"
            ]
          },
          "execution_count": 23,
          "metadata": {},
          "output_type": "execute_result"
        }
      ],
      "source": [
        "arr1=[[5,4,6],[8,9,7],[5,8,9],[7,8,9]]\n",
        "np.average(arr1)"
      ]
    },
    {
      "cell_type": "markdown",
      "metadata": {
        "id": "euO2FPnpGR9i"
      },
      "source": [
        "Explanation about example"
      ]
    },
    {
      "cell_type": "code",
      "execution_count": null,
      "metadata": {
        "id": "sMjeLEX2GR9i"
      },
      "outputs": [
        {
          "ename": "TypeError",
          "evalue": "_average_dispatcher() got multiple values for argument 'axis'",
          "output_type": "error",
          "traceback": [
            "\u001b[1;31m---------------------------------------------------------------------------\u001b[0m",
            "\u001b[1;31mTypeError\u001b[0m                                 Traceback (most recent call last)",
            "\u001b[1;32mc:\\Users\\ELCOT\\Documents\\2nd sem\\python\\unit 2\\Assignment_II_numpy_array_operations.ipynb Cell 18'\u001b[0m in \u001b[0;36m<module>\u001b[1;34m\u001b[0m\n\u001b[0;32m      <a href='vscode-notebook-cell:/c%3A/Users/ELCOT/Documents/2nd%20sem/python/unit%202/Assignment_II_numpy_array_operations.ipynb#ch0000017?line=0'>1</a>\u001b[0m \u001b[39m# Example 3 - breaking (to illustrate when it breaks)\u001b[39;00m\n\u001b[1;32m----> <a href='vscode-notebook-cell:/c%3A/Users/ELCOT/Documents/2nd%20sem/python/unit%202/Assignment_II_numpy_array_operations.ipynb#ch0000017?line=1'>2</a>\u001b[0m np\u001b[39m.\u001b[39;49maverage(arr1,[\u001b[39m1\u001b[39;49m,\u001b[39m2\u001b[39;49m,\u001b[39m3\u001b[39;49m,\u001b[39m4\u001b[39;49m], axis\u001b[39m=\u001b[39;49m\u001b[39m0\u001b[39;49m)\n",
            "File \u001b[1;32m<__array_function__ internals>:179\u001b[0m, in \u001b[0;36maverage\u001b[1;34m(*args, **kwargs)\u001b[0m\n",
            "\u001b[1;31mTypeError\u001b[0m: _average_dispatcher() got multiple values for argument 'axis'"
          ]
        }
      ],
      "source": [
        "# Example 3 - breaking (to illustrate when it breaks)\n",
        "np.average(arr1,[1,2,3,4], axis=0)"
      ]
    },
    {
      "cell_type": "markdown",
      "metadata": {
        "id": "jDfhDOpzGR9i"
      },
      "source": [
        "Explanation about example (why it breaks and how to fix it)\n",
        "\n",
        "In np.average we cannot give the array inside the function we must give only the variable name inside the function if not it will show an error. "
      ]
    },
    {
      "cell_type": "code",
      "execution_count": null,
      "metadata": {},
      "outputs": [
        {
          "data": {
            "text/plain": [
              "18.0"
            ]
          },
          "execution_count": 27,
          "metadata": {},
          "output_type": "execute_result"
        }
      ],
      "source": [
        "array=[9,8,7],[9,10,65]\n",
        "np.average(array)"
      ]
    },
    {
      "cell_type": "markdown",
      "metadata": {
        "id": "ZhMnyD5SGR9i"
      },
      "source": [
        "Some closing comments about when to use this function."
      ]
    },
    {
      "cell_type": "markdown",
      "metadata": {
        "id": "TfRcZC6aGR9i"
      },
      "source": [
        "## Function 3 - np.arange\n",
        "\n",
        "Add some explanations"
      ]
    },
    {
      "cell_type": "code",
      "execution_count": null,
      "metadata": {
        "id": "JtrKm_6IGR9j"
      },
      "outputs": [
        {
          "data": {
            "text/plain": [
              "array([3, 4, 5, 6])"
            ]
          },
          "execution_count": 11,
          "metadata": {},
          "output_type": "execute_result"
        }
      ],
      "source": [
        "# Example 1 - working\n",
        "np.arange(3,7)"
      ]
    },
    {
      "cell_type": "markdown",
      "metadata": {
        "id": "D8r2wqr5GR9j"
      },
      "source": [
        "Explanation about example"
      ]
    },
    {
      "cell_type": "code",
      "execution_count": null,
      "metadata": {
        "id": "pdZlVysOGR9j"
      },
      "outputs": [
        {
          "data": {
            "text/plain": [
              "array([3, 5])"
            ]
          },
          "execution_count": 33,
          "metadata": {},
          "output_type": "execute_result"
        }
      ],
      "source": [
        "# Example 2 - working\n",
        "np.arange(3,7,2)"
      ]
    },
    {
      "cell_type": "markdown",
      "metadata": {
        "id": "4q0E5GWMGR9j"
      },
      "source": [
        "Explanation about example"
      ]
    },
    {
      "cell_type": "code",
      "execution_count": null,
      "metadata": {
        "id": "yMHbGoQbGR9j"
      },
      "outputs": [
        {
          "ename": "TypeError",
          "evalue": "unsupported operand type(s) for /: 'int' and 'type'",
          "output_type": "error",
          "traceback": [
            "\u001b[1;31m---------------------------------------------------------------------------\u001b[0m",
            "\u001b[1;31mTypeError\u001b[0m                                 Traceback (most recent call last)",
            "\u001b[1;32mc:\\Users\\kasth\\OneDrive\\Desktop\\Python\\Assignments\\Unit (2)\\Assignment_II_numpy_array_operations.ipynb Cell 27'\u001b[0m in \u001b[0;36m<cell line: 2>\u001b[1;34m()\u001b[0m\n\u001b[0;32m      <a href='vscode-notebook-cell:/c%3A/Users/kasth/OneDrive/Desktop/Python/Assignments/Unit%20%282%29/Assignment_II_numpy_array_operations.ipynb#ch0000026?line=0'>1</a>\u001b[0m \u001b[39m# Example 3 - breaking (to illustrate when it breaks)\u001b[39;00m\n\u001b[1;32m----> <a href='vscode-notebook-cell:/c%3A/Users/kasth/OneDrive/Desktop/Python/Assignments/Unit%20%282%29/Assignment_II_numpy_array_operations.ipynb#ch0000026?line=1'>2</a>\u001b[0m np\u001b[39m.\u001b[39;49marange(\u001b[39m3\u001b[39;49m,\u001b[39m7\u001b[39;49m,\u001b[39mint\u001b[39;49m)\n",
            "\u001b[1;31mTypeError\u001b[0m: unsupported operand type(s) for /: 'int' and 'type'"
          ]
        }
      ],
      "source": [
        "# Example 3 - breaking (to illustrate when it breaks)\n",
        "np.arange(3,7,int)"
      ]
    },
    {
      "cell_type": "markdown",
      "metadata": {
        "id": "pNNg5euiGR9j"
      },
      "source": [
        "Explanation about example (why it breaks and how to fix it)\n",
        "\n",
        "np.arrange syntax is (start,stop,increment,dtype) so we must have the same syntax if not it will show error."
      ]
    },
    {
      "cell_type": "code",
      "execution_count": null,
      "metadata": {},
      "outputs": [
        {
          "data": {
            "text/plain": [
              "array([3, 5])"
            ]
          },
          "execution_count": 28,
          "metadata": {},
          "output_type": "execute_result"
        }
      ],
      "source": [
        "np.arange(3,7,2,int)"
      ]
    },
    {
      "cell_type": "markdown",
      "metadata": {
        "id": "5v6apGVJGR9j"
      },
      "source": [
        "Some closing comments about when to use this function."
      ]
    },
    {
      "cell_type": "markdown",
      "metadata": {
        "id": "QXgjSaKFGR9k"
      },
      "source": [
        "## Function 4 - np.squeeze\n",
        "\n",
        "Add some explanations"
      ]
    },
    {
      "cell_type": "code",
      "execution_count": null,
      "metadata": {
        "id": "9r7duC1LGR9k"
      },
      "outputs": [
        {
          "data": {
            "text/plain": [
              "(1, 3, 1)"
            ]
          },
          "execution_count": 40,
          "metadata": {},
          "output_type": "execute_result"
        }
      ],
      "source": [
        "# Example 1 - working\n",
        "x = np.array([[[0], [1], [2]]])\n",
        "x.shape"
      ]
    },
    {
      "cell_type": "code",
      "execution_count": null,
      "metadata": {},
      "outputs": [
        {
          "data": {
            "text/plain": [
              "(3, 1)"
            ]
          },
          "execution_count": 41,
          "metadata": {},
          "output_type": "execute_result"
        }
      ],
      "source": [
        "np.squeeze(x,axis=0).shape"
      ]
    },
    {
      "cell_type": "markdown",
      "metadata": {
        "id": "CNWUZIxRGR9k"
      },
      "source": [
        "Explanation about example"
      ]
    },
    {
      "cell_type": "code",
      "execution_count": 48,
      "metadata": {
        "id": "_dBBNHOBGR9k"
      },
      "outputs": [
        {
          "data": {
            "text/plain": [
              "(1, 3, 1)"
            ]
          },
          "execution_count": 48,
          "metadata": {},
          "output_type": "execute_result"
        }
      ],
      "source": [
        "# Example 2 - working\n",
        "x1 = np.array([[[0], [1], [2]]])\n",
        "x1.shape\n"
      ]
    },
    {
      "cell_type": "code",
      "execution_count": 51,
      "metadata": {},
      "outputs": [
        {
          "data": {
            "text/plain": [
              "(1, 3)"
            ]
          },
          "execution_count": 51,
          "metadata": {},
          "output_type": "execute_result"
        }
      ],
      "source": [
        "np.squeeze(x1,axis=2).shape"
      ]
    },
    {
      "cell_type": "markdown",
      "metadata": {
        "id": "W3piuExMGR9k"
      },
      "source": [
        "Explanation about example"
      ]
    },
    {
      "cell_type": "code",
      "execution_count": null,
      "metadata": {
        "id": "A4gQDXWNGR9k"
      },
      "outputs": [
        {
          "data": {
            "text/plain": [
              "(1, 3, 1)"
            ]
          },
          "execution_count": 29,
          "metadata": {},
          "output_type": "execute_result"
        }
      ],
      "source": [
        "# Example 3 - breaking (to illustrate when it breaks)\n",
        "x11 = np.array([[[0], [1], [2]]])\n",
        "x1.shape"
      ]
    },
    {
      "cell_type": "code",
      "execution_count": null,
      "metadata": {},
      "outputs": [
        {
          "ename": "ValueError",
          "evalue": "cannot select an axis to squeeze out which has size not equal to one",
          "output_type": "error",
          "traceback": [
            "\u001b[1;31m---------------------------------------------------------------------------\u001b[0m",
            "\u001b[1;31mValueError\u001b[0m                                Traceback (most recent call last)",
            "\u001b[1;32mc:\\Users\\kasth\\OneDrive\\Desktop\\Python\\Assignments\\Unit (2)\\Assignment_II_numpy_array_operations.ipynb Cell 39'\u001b[0m in \u001b[0;36m<cell line: 1>\u001b[1;34m()\u001b[0m\n\u001b[1;32m----> <a href='vscode-notebook-cell:/c%3A/Users/kasth/OneDrive/Desktop/Python/Assignments/Unit%20%282%29/Assignment_II_numpy_array_operations.ipynb#ch0000050?line=0'>1</a>\u001b[0m np\u001b[39m.\u001b[39;49msqueeze(x11,axis\u001b[39m=\u001b[39;49m\u001b[39m1\u001b[39;49m)\u001b[39m.\u001b[39mshape\n",
            "File \u001b[1;32m<__array_function__ internals>:180\u001b[0m, in \u001b[0;36msqueeze\u001b[1;34m(*args, **kwargs)\u001b[0m\n",
            "File \u001b[1;32m~\\AppData\\Local\\Programs\\Python\\Python310\\lib\\site-packages\\numpy\\core\\fromnumeric.py:1545\u001b[0m, in \u001b[0;36msqueeze\u001b[1;34m(a, axis)\u001b[0m\n\u001b[0;32m   <a href='file:///c%3A/Users/kasth/AppData/Local/Programs/Python/Python310/lib/site-packages/numpy/core/fromnumeric.py?line=1542'>1543</a>\u001b[0m     \u001b[39mreturn\u001b[39;00m squeeze()\n\u001b[0;32m   <a href='file:///c%3A/Users/kasth/AppData/Local/Programs/Python/Python310/lib/site-packages/numpy/core/fromnumeric.py?line=1543'>1544</a>\u001b[0m \u001b[39melse\u001b[39;00m:\n\u001b[1;32m-> <a href='file:///c%3A/Users/kasth/AppData/Local/Programs/Python/Python310/lib/site-packages/numpy/core/fromnumeric.py?line=1544'>1545</a>\u001b[0m     \u001b[39mreturn\u001b[39;00m squeeze(axis\u001b[39m=\u001b[39;49maxis)\n",
            "\u001b[1;31mValueError\u001b[0m: cannot select an axis to squeeze out which has size not equal to one"
          ]
        }
      ],
      "source": [
        "np.squeeze(x11,axis=1).shape"
      ]
    },
    {
      "cell_type": "markdown",
      "metadata": {
        "id": "dPPU0YZ5GR9l"
      },
      "source": [
        "Explanation about example (why it breaks and how to fix it)"
      ]
    },
    {
      "cell_type": "markdown",
      "metadata": {},
      "source": [
        "row and dimesions are equal to one but here column is so that is not equal to one . so here display the error."
      ]
    },
    {
      "cell_type": "markdown",
      "metadata": {
        "id": "CsOKLwbKGR9l"
      },
      "source": [
        "Some closing comments about when to use this function."
      ]
    },
    {
      "cell_type": "markdown",
      "metadata": {
        "id": "4Eevnyo0GR9l"
      },
      "source": [
        "## Function 5 - np.vstack\n",
        "\n",
        "Add some explanations"
      ]
    },
    {
      "cell_type": "code",
      "execution_count": 54,
      "metadata": {
        "id": "hWGZ_CjpGR9l"
      },
      "outputs": [
        {
          "data": {
            "text/plain": [
              "array([[ 6,  7,  8],\n",
              "       [10, 11, 14]])"
            ]
          },
          "execution_count": 54,
          "metadata": {},
          "output_type": "execute_result"
        }
      ],
      "source": [
        "# Example 1 - working\n",
        "x = np.array([6,7,8])\n",
        "y = np.array([10,11,14])\n",
        "np.vstack((x,y))"
      ]
    },
    {
      "cell_type": "markdown",
      "metadata": {
        "id": "Gtttw9fWGR9l"
      },
      "source": [
        "Explanation about example\n",
        "\n",
        "vstack is join the array in vertical order in single array.\n"
      ]
    },
    {
      "cell_type": "code",
      "execution_count": 55,
      "metadata": {
        "id": "UWGFeBUQGR9l"
      },
      "outputs": [
        {
          "data": {
            "text/plain": [
              "array([[67],\n",
              "       [56],\n",
              "       [57],\n",
              "       [15],\n",
              "       [17],\n",
              "       [19]])"
            ]
          },
          "execution_count": 55,
          "metadata": {},
          "output_type": "execute_result"
        }
      ],
      "source": [
        "# Example 2 - working\n",
        "x = np.array([[67], [56], [57]])\n",
        "y = np.array([[15], [17], [19]])\n",
        "np.vstack((x,y))"
      ]
    },
    {
      "cell_type": "markdown",
      "metadata": {
        "id": "8fIRSm0KGR9m"
      },
      "source": [
        "Explanation about example"
      ]
    },
    {
      "cell_type": "code",
      "execution_count": 58,
      "metadata": {
        "id": "BuVqcGg1GR9m"
      },
      "outputs": [
        {
          "name": "stdout",
          "output_type": "stream",
          "text": [
            "Object `?` not found.\n"
          ]
        },
        {
          "ename": "ValueError",
          "evalue": "all the input array dimensions for the concatenation axis must match exactly, but along dimension 1, the array at index 0 has size 3 and the array at index 1 has size 2",
          "output_type": "error",
          "traceback": [
            "\u001b[1;31m---------------------------------------------------------------------------\u001b[0m",
            "\u001b[1;31mValueError\u001b[0m                                Traceback (most recent call last)",
            "\u001b[1;32mc:\\Users\\ELCOT\\Documents\\2nd sem\\python\\unit 2\\Assignment_II_numpy_array_operations.ipynb Cell 48'\u001b[0m in \u001b[0;36m<module>\u001b[1;34m\u001b[0m\n\u001b[0;32m      <a href='vscode-notebook-cell:/c%3A/Users/ELCOT/Documents/2nd%20sem/python/unit%202/Assignment_II_numpy_array_operations.ipynb#ch0000047?line=2'>3</a>\u001b[0m x\u001b[39m=\u001b[39mnp\u001b[39m.\u001b[39marray([\u001b[39m3\u001b[39m,\u001b[39m4\u001b[39m,\u001b[39m5\u001b[39m])\n\u001b[0;32m      <a href='vscode-notebook-cell:/c%3A/Users/ELCOT/Documents/2nd%20sem/python/unit%202/Assignment_II_numpy_array_operations.ipynb#ch0000047?line=3'>4</a>\u001b[0m y\u001b[39m=\u001b[39mnp\u001b[39m.\u001b[39marray([\u001b[39m3\u001b[39m,\u001b[39m5\u001b[39m])\n\u001b[1;32m----> <a href='vscode-notebook-cell:/c%3A/Users/ELCOT/Documents/2nd%20sem/python/unit%202/Assignment_II_numpy_array_operations.ipynb#ch0000047?line=4'>5</a>\u001b[0m np\u001b[39m.\u001b[39;49mvstack((x,y))\n",
            "File \u001b[1;32m<__array_function__ internals>:180\u001b[0m, in \u001b[0;36mvstack\u001b[1;34m(*args, **kwargs)\u001b[0m\n",
            "File \u001b[1;32m~\\AppData\\Local\\Programs\\Python\\Python310\\lib\\site-packages\\numpy\\core\\shape_base.py:282\u001b[0m, in \u001b[0;36mvstack\u001b[1;34m(tup)\u001b[0m\n\u001b[0;32m    <a href='file:///c%3A/Users/ELCOT/AppData/Local/Programs/Python/Python310/lib/site-packages/numpy/core/shape_base.py?line=279'>280</a>\u001b[0m \u001b[39mif\u001b[39;00m \u001b[39mnot\u001b[39;00m \u001b[39misinstance\u001b[39m(arrs, \u001b[39mlist\u001b[39m):\n\u001b[0;32m    <a href='file:///c%3A/Users/ELCOT/AppData/Local/Programs/Python/Python310/lib/site-packages/numpy/core/shape_base.py?line=280'>281</a>\u001b[0m     arrs \u001b[39m=\u001b[39m [arrs]\n\u001b[1;32m--> <a href='file:///c%3A/Users/ELCOT/AppData/Local/Programs/Python/Python310/lib/site-packages/numpy/core/shape_base.py?line=281'>282</a>\u001b[0m \u001b[39mreturn\u001b[39;00m _nx\u001b[39m.\u001b[39;49mconcatenate(arrs, \u001b[39m0\u001b[39;49m)\n",
            "File \u001b[1;32m<__array_function__ internals>:180\u001b[0m, in \u001b[0;36mconcatenate\u001b[1;34m(*args, **kwargs)\u001b[0m\n",
            "\u001b[1;31mValueError\u001b[0m: all the input array dimensions for the concatenation axis must match exactly, but along dimension 1, the array at index 0 has size 3 and the array at index 1 has size 2"
          ]
        }
      ],
      "source": [
        "# Example 3 - breaking (to illustrate when it breaks)\n",
        "???\n",
        "x=np.array([3,4,5])\n",
        "y=np.array([3,5])\n",
        "np.vstack((x,y))"
      ]
    },
    {
      "cell_type": "markdown",
      "metadata": {
        "id": "1XVOIp7kGR9m"
      },
      "source": [
        "Explanation about example (why it breaks and how to fix it)\n",
        "\n",
        "x and y must have same array size otherwise its shows error."
      ]
    },
    {
      "cell_type": "markdown",
      "metadata": {
        "id": "Va-gXokWGR9m"
      },
      "source": [
        "Some closing comments about when to use this function."
      ]
    }
  ],
  "metadata": {
    "colab": {
      "name": "numpy-array-operations.ipynb",
      "provenance": []
    },
    "kernelspec": {
      "display_name": "Python 3",
      "language": "python",
      "name": "python3"
    },
    "language_info": {
      "codemirror_mode": {
        "name": "ipython",
        "version": 3
      },
      "file_extension": ".py",
      "mimetype": "text/x-python",
      "name": "python",
      "nbconvert_exporter": "python",
      "pygments_lexer": "ipython3",
      "version": "3.10.2"
    }
  },
  "nbformat": 4,
  "nbformat_minor": 0
}
